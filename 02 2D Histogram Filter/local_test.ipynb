{
 "cells": [
  {
   "cell_type": "code",
   "execution_count": 6,
   "metadata": {},
   "outputs": [
    {
     "name": "stdout",
     "output_type": "stream",
     "text": [
      "(j + dx ) % width =  0 + 1 % 3\n",
      "(j + dx ) % width =  1 + 1 % 3\n",
      "(j + dx ) % width =  2 + 1 % 3\n",
      "(j + dx ) % width =  0 + 1 % 3\n",
      "(j + dx ) % width =  1 + 1 % 3\n",
      "(j + dx ) % width =  2 + 1 % 3\n",
      "(j + dx ) % width =  0 + 1 % 3\n",
      "(j + dx ) % width =  1 + 1 % 3\n",
      "(j + dx ) % width =  2 + 1 % 3\n",
      "old G=  [[1, 2, 3], [4, 5, 6], [7, 8, 9]]\n",
      "new G=  [[9, 7, 8], [3, 1, 2], [6, 4, 5]]\n"
     ]
    }
   ],
   "source": [
    "    beliefs = [[1,2,3],\n",
    "               [4,5,6],\n",
    "               [7,8,9]]\n",
    "    dx = 1\n",
    "    dy = 1\n",
    "    height = len(beliefs)\n",
    "    width = len(beliefs[0])\n",
    "    new_G = [[0.0 for i in range(width)] for j in range(height)]\n",
    "    for i, row in enumerate(beliefs):\n",
    "        for j, cell in enumerate(row):\n",
    "            new_i = (i + dy ) % height\n",
    "            new_j = (j + dx ) % width\n",
    "            print('(j + dx ) % width = ',j,'+',dx,'%', width)\n",
    "#             pdb.set_trace()\n",
    "            new_G[int(new_i)][int(new_j)] = cell\n",
    "    print('old G= ', beliefs)\n",
    "    print('new G= ', new_G)"
   ]
  }
 ],
 "metadata": {
  "kernelspec": {
   "display_name": "Python 3",
   "language": "python",
   "name": "python3"
  },
  "language_info": {
   "codemirror_mode": {
    "name": "ipython",
    "version": 3
   },
   "file_extension": ".py",
   "mimetype": "text/x-python",
   "name": "python",
   "nbconvert_exporter": "python",
   "pygments_lexer": "ipython3",
   "version": "3.6.3"
  }
 },
 "nbformat": 4,
 "nbformat_minor": 2
}
